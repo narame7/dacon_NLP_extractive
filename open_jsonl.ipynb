{
 "cells": [
  {
   "cell_type": "code",
   "execution_count": 1,
   "metadata": {},
   "outputs": [],
   "source": [
    "# open jsonl\n",
    "import json\n",
    "import pandas as pd"
   ]
  },
  {
   "cell_type": "code",
   "execution_count": 4,
   "metadata": {},
   "outputs": [],
   "source": [
    "result = pd.DataFrame()#pd.DataFrame(columns=['media', 'id', 'article_original', 'abstractive', 'extractive'])\n",
    "#print(result)\n",
    "with open('./dataset/train.jsonl', 'r') as json_file: # 42803\n",
    "    json_list = list(json_file)\n",
    "for json_str in json_list:\n",
    "    #result.append(list(json.loads(json_str).values()))\n",
    "    ddata = json.loads(json_str)\n",
    "    df = pd.DataFrame(data=[list(ddata.values())],columns=list(ddata.keys()))\n",
    "    result = result.append(df)\n",
    "    #print(result)"
   ]
  },
  {
   "cell_type": "code",
   "execution_count": 25,
   "metadata": {},
   "outputs": [
    {
     "data": {
      "text/html": [
       "<div>\n",
       "<style scoped>\n",
       "    .dataframe tbody tr th:only-of-type {\n",
       "        vertical-align: middle;\n",
       "    }\n",
       "\n",
       "    .dataframe tbody tr th {\n",
       "        vertical-align: top;\n",
       "    }\n",
       "\n",
       "    .dataframe thead th {\n",
       "        text-align: right;\n",
       "    }\n",
       "</style>\n",
       "<table border=\"1\" class=\"dataframe\">\n",
       "  <thead>\n",
       "    <tr style=\"text-align: right;\">\n",
       "      <th></th>\n",
       "      <th>media</th>\n",
       "      <th>id</th>\n",
       "      <th>article_original</th>\n",
       "      <th>abstractive</th>\n",
       "      <th>extractive</th>\n",
       "    </tr>\n",
       "  </thead>\n",
       "  <tbody>\n",
       "    <tr>\n",
       "      <th>0</th>\n",
       "      <td>당진시대</td>\n",
       "      <td>327827480</td>\n",
       "      <td>[당진시 문화관광과를 대상으로 하는 행정사무감사에서 당진시립합창단 관계자가 보낸 것...</td>\n",
       "      <td>지난 6일 당진시의회 행정사무감사에서 '합창단이 소리를 작게 낼 것이니 알고 있으라...</td>\n",
       "      <td>[0, 1, 2]</td>\n",
       "    </tr>\n",
       "    <tr>\n",
       "      <th>0</th>\n",
       "      <td>국제신문</td>\n",
       "      <td>339840364</td>\n",
       "      <td>[미국 메이저리그(MLB)에서 활동하는 한국 선수들의 시즌 초반 희비가 엇갈리고 있...</td>\n",
       "      <td>LA 에인절스의 최지만이 맹활약을 하여 시즌 타율 0.250에서 0.313으로 올리...</td>\n",
       "      <td>[0, 1, 3]</td>\n",
       "    </tr>\n",
       "    <tr>\n",
       "      <th>0</th>\n",
       "      <td>기호일보</td>\n",
       "      <td>371071597</td>\n",
       "      <td>[인천 부영공원 운영 생활야구협회 80여 동호회 팀에 260만 원씩 받아, 국유지로...</td>\n",
       "      <td>16일 부평구와 협회 등에 따르면 부영공원 안에 있는 야구장을 구생활체육야구협회가 ...</td>\n",
       "      <td>[6, 7, 10]</td>\n",
       "    </tr>\n",
       "    <tr>\n",
       "      <th>0</th>\n",
       "      <td>대구일보</td>\n",
       "      <td>354806783</td>\n",
       "      <td>[대구·경북첨단의료산업진흥재단 의약생산센터는 항암주사제 무균충전 시설을 갖추고 있다...</td>\n",
       "      <td>대구·경북첨단의료산업진흥재단 의약생산센터는 약사법 시행규칙에서 정한 바에 따라 전용...</td>\n",
       "      <td>[1, 6, 4]</td>\n",
       "    </tr>\n",
       "    <tr>\n",
       "      <th>0</th>\n",
       "      <td>대구신문</td>\n",
       "      <td>347022773</td>\n",
       "      <td>[국내 유통되는 탄산음료 중 식품의약품안전처에 품질인증을 받은 제품이 하나도 없는 ...</td>\n",
       "      <td>식품의약품안전처는 29일 어린이가 즐겨마시는 음료를 대상으로 영양성분을 조사한 결과...</td>\n",
       "      <td>[2, 3, 10]</td>\n",
       "    </tr>\n",
       "  </tbody>\n",
       "</table>\n",
       "</div>"
      ],
      "text/plain": [
       "  media         id                                   article_original  \\\n",
       "0  당진시대  327827480  [당진시 문화관광과를 대상으로 하는 행정사무감사에서 당진시립합창단 관계자가 보낸 것...   \n",
       "0  국제신문  339840364  [미국 메이저리그(MLB)에서 활동하는 한국 선수들의 시즌 초반 희비가 엇갈리고 있...   \n",
       "0  기호일보  371071597  [인천 부영공원 운영 생활야구협회 80여 동호회 팀에 260만 원씩 받아, 국유지로...   \n",
       "0  대구일보  354806783  [대구·경북첨단의료산업진흥재단 의약생산센터는 항암주사제 무균충전 시설을 갖추고 있다...   \n",
       "0  대구신문  347022773  [국내 유통되는 탄산음료 중 식품의약품안전처에 품질인증을 받은 제품이 하나도 없는 ...   \n",
       "\n",
       "                                         abstractive  extractive  \n",
       "0  지난 6일 당진시의회 행정사무감사에서 '합창단이 소리를 작게 낼 것이니 알고 있으라...   [0, 1, 2]  \n",
       "0  LA 에인절스의 최지만이 맹활약을 하여 시즌 타율 0.250에서 0.313으로 올리...   [0, 1, 3]  \n",
       "0  16일 부평구와 협회 등에 따르면 부영공원 안에 있는 야구장을 구생활체육야구협회가 ...  [6, 7, 10]  \n",
       "0  대구·경북첨단의료산업진흥재단 의약생산센터는 약사법 시행규칙에서 정한 바에 따라 전용...   [1, 6, 4]  \n",
       "0  식품의약품안전처는 29일 어린이가 즐겨마시는 음료를 대상으로 영양성분을 조사한 결과...  [2, 3, 10]  "
      ]
     },
     "execution_count": 25,
     "metadata": {},
     "output_type": "execute_result"
    }
   ],
   "source": [
    "result.head() # media 11, abstractive 42800"
   ]
  },
  {
   "cell_type": "code",
   "execution_count": 67,
   "metadata": {},
   "outputs": [],
   "source": [
    "SEED = 64 # 여진이가 좋아하는 숫자~\n",
    "data = result.sample(frac=1, random_state=SEED)"
   ]
  },
  {
   "cell_type": "code",
   "execution_count": 72,
   "metadata": {},
   "outputs": [],
   "source": [
    "train_len = int(len(data) * 0.8)\n",
    "#valid_len = len(data) - train_len\n",
    "train_dataset = data[:train_len] # 34242\n",
    "valid_dataset = data[train_len:] # 8561"
   ]
  },
  {
   "cell_type": "code",
   "execution_count": 89,
   "metadata": {},
   "outputs": [
    {
     "data": {
      "text/plain": [
       "['선박 이동 권고에도 하역작업 지속 기상 악화로 높은 파도 승객 불안 도착 예정 3시간이나 지나서 접안',\n",
       " '3일 백령도 선착장을 막아선 대형 크레인 선박이 이동 요청을 무시하고 작업을 이어가고 있다.',\n",
       " '<독자 제공>',\n",
       " '인천항 제1국제여객터미널을 출발해 백령도로 향하던 여객선 ‘하모니플라워호’가 항구를 가로막은 대형 선박으로 인해 2시간여 동안 바다 위에 고립돼 승객들이 분통을 터뜨렸다.',\n",
       " '3일 오전 7시 50분께 500여 명을 태운 하모니 여객선이 인천항 여객터미널을 출발해 소·대청도를 지나 이날 낮 12시 20분께 백령도 선착장에 도착할 예정이었다.',\n",
       " '백령도에 내려야 할 주민 등은 300여 명에 달했다.',\n",
       " '하지만 선착장이 있는 백령항에서는 대형 바지선이 점령해 하모니플라워호에 타고 있던 주민들은 3시간가량 항구에 접안하지 못한 채 바다 한가운데에서 발을 동동 구르며 대기해야 했다.',\n",
       " '이날 백령도 해상은 기상악화에 따른 높은 파도로 주민들의 불안은 더욱 가중됐다.',\n",
       " '이날 인천지방해양수산청은 백령면과 여객선 관계자들의 민원을 접수한 후 직원을 파견해 이동을 권고했으나 해당 선박은 이를 무시하고 2시간가량 작업을 이어간 것으로 알려졌다.',\n",
       " '주민들은 접안 예정시각 3시간이나 지난 오후 3시20분께 백령항에 발을 디딜 수 있었다.',\n",
       " '주민 A(60)씨는 \"기상악화로 백령도 일대에 파도가 높은 상황에 3시간 가까이 고립돼 자칫 위험한 상황도 발생할 수 있었다\"며 \"대형 선박이 여객선의 접안 방해는 다시는 일어나선 안 되고, 관계 기관의 강력한 조치가 필요하다\"고 분통을 터뜨렸다.',\n",
       " '해수청 관계자도 \"민원이 접수되고 작업 선박에 이동할 것을 수차례 요구했지만, 전혀 이행하지 않았다\"며 \"해당 선박에 대한 행정적 제재와 민·형사상 고발 등도 검토해 다시는 이런 일이 재발되지 않도록 조치할 것\"이라고 말했다.',\n",
       " '한편, 해당 선박은 백령도 내 건설 자재 하역작업을 하고 있던 것으로 전해졌다.']"
      ]
     },
     "execution_count": 89,
     "metadata": {},
     "output_type": "execute_result"
    }
   ],
   "source": [
    "train_dataset.article_original.values[0]"
   ]
  }
 ],
 "metadata": {
  "kernelspec": {
   "display_name": "Python 3",
   "language": "python",
   "name": "python3"
  },
  "language_info": {
   "codemirror_mode": {
    "name": "ipython",
    "version": 3
   },
   "file_extension": ".py",
   "mimetype": "text/x-python",
   "name": "python",
   "nbconvert_exporter": "python",
   "pygments_lexer": "ipython3",
   "version": "3.8.3"
  }
 },
 "nbformat": 4,
 "nbformat_minor": 4
}
